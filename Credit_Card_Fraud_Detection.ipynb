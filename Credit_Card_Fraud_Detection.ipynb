{
  "nbformat": 4,
  "nbformat_minor": 0,
  "metadata": {
    "colab": {
      "name": "Credit Card Fraud Detection.ipynb",
      "provenance": [],
      "authorship_tag": "ABX9TyMci+hTr03nutTHJJo+urAg",
      "include_colab_link": true
    },
    "kernelspec": {
      "name": "python3",
      "display_name": "Python 3"
    },
    "language_info": {
      "name": "python"
    }
  },
  "cells": [
    {
      "cell_type": "markdown",
      "metadata": {
        "id": "view-in-github",
        "colab_type": "text"
      },
      "source": [
        "<a href=\"https://colab.research.google.com/github/AyushSinghRaghuwanshi/Credit-Card-Fraud-Detection/blob/main/Credit_Card_Fraud_Detection.ipynb\" target=\"_parent\"><img src=\"https://colab.research.google.com/assets/colab-badge.svg\" alt=\"Open In Colab\"/></a>"
      ]
    },
    {
      "cell_type": "code",
      "metadata": {
        "id": "UuIB3jo0HQfr"
      },
      "source": [
        "#Importing the dependencies\n",
        "import numpy as np\n",
        "import pandas as pd\n",
        "from sklearn.model_selection import train_test_split\n",
        "from sklearn.linear_model import LogisticRegression\n",
        "from sklearn.metrics import accuracy_score"
      ],
      "execution_count": 2,
      "outputs": []
    },
    {
      "cell_type": "code",
      "metadata": {
        "id": "W8EMrCNDPbfH"
      },
      "source": [
        "#Loading dataset to a pandas dataframe\n",
        "df = pd.read_csv('creditcard.csv')"
      ],
      "execution_count": 3,
      "outputs": []
    },
    {
      "cell_type": "code",
      "metadata": {
        "colab": {
          "base_uri": "https://localhost:8080/",
          "height": 223
        },
        "id": "MK8VhLV_QGqL",
        "outputId": "db4f1260-bf23-4452-e491-38975d7db2a7"
      },
      "source": [
        "df.head()"
      ],
      "execution_count": 4,
      "outputs": [
        {
          "output_type": "execute_result",
          "data": {
            "text/html": [
              "<div>\n",
              "<style scoped>\n",
              "    .dataframe tbody tr th:only-of-type {\n",
              "        vertical-align: middle;\n",
              "    }\n",
              "\n",
              "    .dataframe tbody tr th {\n",
              "        vertical-align: top;\n",
              "    }\n",
              "\n",
              "    .dataframe thead th {\n",
              "        text-align: right;\n",
              "    }\n",
              "</style>\n",
              "<table border=\"1\" class=\"dataframe\">\n",
              "  <thead>\n",
              "    <tr style=\"text-align: right;\">\n",
              "      <th></th>\n",
              "      <th>Time</th>\n",
              "      <th>V1</th>\n",
              "      <th>V2</th>\n",
              "      <th>V3</th>\n",
              "      <th>V4</th>\n",
              "      <th>V5</th>\n",
              "      <th>V6</th>\n",
              "      <th>V7</th>\n",
              "      <th>V8</th>\n",
              "      <th>V9</th>\n",
              "      <th>V10</th>\n",
              "      <th>V11</th>\n",
              "      <th>V12</th>\n",
              "      <th>V13</th>\n",
              "      <th>V14</th>\n",
              "      <th>V15</th>\n",
              "      <th>V16</th>\n",
              "      <th>V17</th>\n",
              "      <th>V18</th>\n",
              "      <th>V19</th>\n",
              "      <th>V20</th>\n",
              "      <th>V21</th>\n",
              "      <th>V22</th>\n",
              "      <th>V23</th>\n",
              "      <th>V24</th>\n",
              "      <th>V25</th>\n",
              "      <th>V26</th>\n",
              "      <th>V27</th>\n",
              "      <th>V28</th>\n",
              "      <th>Amount</th>\n",
              "      <th>Class</th>\n",
              "    </tr>\n",
              "  </thead>\n",
              "  <tbody>\n",
              "    <tr>\n",
              "      <th>0</th>\n",
              "      <td>0</td>\n",
              "      <td>-1.359807</td>\n",
              "      <td>-0.072781</td>\n",
              "      <td>2.536347</td>\n",
              "      <td>1.378155</td>\n",
              "      <td>-0.338321</td>\n",
              "      <td>0.462388</td>\n",
              "      <td>0.239599</td>\n",
              "      <td>0.098698</td>\n",
              "      <td>0.363787</td>\n",
              "      <td>0.090794</td>\n",
              "      <td>-0.551600</td>\n",
              "      <td>-0.617801</td>\n",
              "      <td>-0.991390</td>\n",
              "      <td>-0.311169</td>\n",
              "      <td>1.468177</td>\n",
              "      <td>-0.470401</td>\n",
              "      <td>0.207971</td>\n",
              "      <td>0.025791</td>\n",
              "      <td>0.403993</td>\n",
              "      <td>0.251412</td>\n",
              "      <td>-0.018307</td>\n",
              "      <td>0.277838</td>\n",
              "      <td>-0.110474</td>\n",
              "      <td>0.066928</td>\n",
              "      <td>0.128539</td>\n",
              "      <td>-0.189115</td>\n",
              "      <td>0.133558</td>\n",
              "      <td>-0.021053</td>\n",
              "      <td>149.62</td>\n",
              "      <td>0.0</td>\n",
              "    </tr>\n",
              "    <tr>\n",
              "      <th>1</th>\n",
              "      <td>0</td>\n",
              "      <td>1.191857</td>\n",
              "      <td>0.266151</td>\n",
              "      <td>0.166480</td>\n",
              "      <td>0.448154</td>\n",
              "      <td>0.060018</td>\n",
              "      <td>-0.082361</td>\n",
              "      <td>-0.078803</td>\n",
              "      <td>0.085102</td>\n",
              "      <td>-0.255425</td>\n",
              "      <td>-0.166974</td>\n",
              "      <td>1.612727</td>\n",
              "      <td>1.065235</td>\n",
              "      <td>0.489095</td>\n",
              "      <td>-0.143772</td>\n",
              "      <td>0.635558</td>\n",
              "      <td>0.463917</td>\n",
              "      <td>-0.114805</td>\n",
              "      <td>-0.183361</td>\n",
              "      <td>-0.145783</td>\n",
              "      <td>-0.069083</td>\n",
              "      <td>-0.225775</td>\n",
              "      <td>-0.638672</td>\n",
              "      <td>0.101288</td>\n",
              "      <td>-0.339846</td>\n",
              "      <td>0.167170</td>\n",
              "      <td>0.125895</td>\n",
              "      <td>-0.008983</td>\n",
              "      <td>0.014724</td>\n",
              "      <td>2.69</td>\n",
              "      <td>0.0</td>\n",
              "    </tr>\n",
              "    <tr>\n",
              "      <th>2</th>\n",
              "      <td>1</td>\n",
              "      <td>-1.358354</td>\n",
              "      <td>-1.340163</td>\n",
              "      <td>1.773209</td>\n",
              "      <td>0.379780</td>\n",
              "      <td>-0.503198</td>\n",
              "      <td>1.800499</td>\n",
              "      <td>0.791461</td>\n",
              "      <td>0.247676</td>\n",
              "      <td>-1.514654</td>\n",
              "      <td>0.207643</td>\n",
              "      <td>0.624501</td>\n",
              "      <td>0.066084</td>\n",
              "      <td>0.717293</td>\n",
              "      <td>-0.165946</td>\n",
              "      <td>2.345865</td>\n",
              "      <td>-2.890083</td>\n",
              "      <td>1.109969</td>\n",
              "      <td>-0.121359</td>\n",
              "      <td>-2.261857</td>\n",
              "      <td>0.524980</td>\n",
              "      <td>0.247998</td>\n",
              "      <td>0.771679</td>\n",
              "      <td>0.909412</td>\n",
              "      <td>-0.689281</td>\n",
              "      <td>-0.327642</td>\n",
              "      <td>-0.139097</td>\n",
              "      <td>-0.055353</td>\n",
              "      <td>-0.059752</td>\n",
              "      <td>378.66</td>\n",
              "      <td>0.0</td>\n",
              "    </tr>\n",
              "    <tr>\n",
              "      <th>3</th>\n",
              "      <td>1</td>\n",
              "      <td>-0.966272</td>\n",
              "      <td>-0.185226</td>\n",
              "      <td>1.792993</td>\n",
              "      <td>-0.863291</td>\n",
              "      <td>-0.010309</td>\n",
              "      <td>1.247203</td>\n",
              "      <td>0.237609</td>\n",
              "      <td>0.377436</td>\n",
              "      <td>-1.387024</td>\n",
              "      <td>-0.054952</td>\n",
              "      <td>-0.226487</td>\n",
              "      <td>0.178228</td>\n",
              "      <td>0.507757</td>\n",
              "      <td>-0.287924</td>\n",
              "      <td>-0.631418</td>\n",
              "      <td>-1.059647</td>\n",
              "      <td>-0.684093</td>\n",
              "      <td>1.965775</td>\n",
              "      <td>-1.232622</td>\n",
              "      <td>-0.208038</td>\n",
              "      <td>-0.108300</td>\n",
              "      <td>0.005274</td>\n",
              "      <td>-0.190321</td>\n",
              "      <td>-1.175575</td>\n",
              "      <td>0.647376</td>\n",
              "      <td>-0.221929</td>\n",
              "      <td>0.062723</td>\n",
              "      <td>0.061458</td>\n",
              "      <td>123.50</td>\n",
              "      <td>0.0</td>\n",
              "    </tr>\n",
              "    <tr>\n",
              "      <th>4</th>\n",
              "      <td>2</td>\n",
              "      <td>-1.158233</td>\n",
              "      <td>0.877737</td>\n",
              "      <td>1.548718</td>\n",
              "      <td>0.403034</td>\n",
              "      <td>-0.407193</td>\n",
              "      <td>0.095921</td>\n",
              "      <td>0.592941</td>\n",
              "      <td>-0.270533</td>\n",
              "      <td>0.817739</td>\n",
              "      <td>0.753074</td>\n",
              "      <td>-0.822843</td>\n",
              "      <td>0.538196</td>\n",
              "      <td>1.345852</td>\n",
              "      <td>-1.119670</td>\n",
              "      <td>0.175121</td>\n",
              "      <td>-0.451449</td>\n",
              "      <td>-0.237033</td>\n",
              "      <td>-0.038195</td>\n",
              "      <td>0.803487</td>\n",
              "      <td>0.408542</td>\n",
              "      <td>-0.009431</td>\n",
              "      <td>0.798278</td>\n",
              "      <td>-0.137458</td>\n",
              "      <td>0.141267</td>\n",
              "      <td>-0.206010</td>\n",
              "      <td>0.502292</td>\n",
              "      <td>0.219422</td>\n",
              "      <td>0.215153</td>\n",
              "      <td>69.99</td>\n",
              "      <td>0.0</td>\n",
              "    </tr>\n",
              "  </tbody>\n",
              "</table>\n",
              "</div>"
            ],
            "text/plain": [
              "   Time        V1        V2        V3  ...       V27       V28  Amount  Class\n",
              "0     0 -1.359807 -0.072781  2.536347  ...  0.133558 -0.021053  149.62    0.0\n",
              "1     0  1.191857  0.266151  0.166480  ... -0.008983  0.014724    2.69    0.0\n",
              "2     1 -1.358354 -1.340163  1.773209  ... -0.055353 -0.059752  378.66    0.0\n",
              "3     1 -0.966272 -0.185226  1.792993  ...  0.062723  0.061458  123.50    0.0\n",
              "4     2 -1.158233  0.877737  1.548718  ...  0.219422  0.215153   69.99    0.0\n",
              "\n",
              "[5 rows x 31 columns]"
            ]
          },
          "metadata": {
            "tags": []
          },
          "execution_count": 4
        }
      ]
    },
    {
      "cell_type": "code",
      "metadata": {
        "colab": {
          "base_uri": "https://localhost:8080/"
        },
        "id": "Uln6wL9xQOtB",
        "outputId": "e8574c90-b6f8-4c70-ba6d-28d6a441890e"
      },
      "source": [
        "#dataset information \n",
        "df.info()"
      ],
      "execution_count": 5,
      "outputs": [
        {
          "output_type": "stream",
          "text": [
            "<class 'pandas.core.frame.DataFrame'>\n",
            "RangeIndex: 105067 entries, 0 to 105066\n",
            "Data columns (total 31 columns):\n",
            " #   Column  Non-Null Count   Dtype  \n",
            "---  ------  --------------   -----  \n",
            " 0   Time    105067 non-null  int64  \n",
            " 1   V1      105067 non-null  float64\n",
            " 2   V2      105067 non-null  float64\n",
            " 3   V3      105067 non-null  float64\n",
            " 4   V4      105067 non-null  float64\n",
            " 5   V5      105067 non-null  float64\n",
            " 6   V6      105067 non-null  float64\n",
            " 7   V7      105067 non-null  float64\n",
            " 8   V8      105067 non-null  float64\n",
            " 9   V9      105067 non-null  float64\n",
            " 10  V10     105067 non-null  float64\n",
            " 11  V11     105067 non-null  float64\n",
            " 12  V12     105067 non-null  float64\n",
            " 13  V13     105067 non-null  float64\n",
            " 14  V14     105067 non-null  float64\n",
            " 15  V15     105067 non-null  float64\n",
            " 16  V16     105067 non-null  float64\n",
            " 17  V17     105067 non-null  float64\n",
            " 18  V18     105067 non-null  float64\n",
            " 19  V19     105067 non-null  float64\n",
            " 20  V20     105067 non-null  float64\n",
            " 21  V21     105067 non-null  float64\n",
            " 22  V22     105067 non-null  float64\n",
            " 23  V23     105067 non-null  float64\n",
            " 24  V24     105066 non-null  float64\n",
            " 25  V25     105066 non-null  float64\n",
            " 26  V26     105066 non-null  float64\n",
            " 27  V27     105066 non-null  float64\n",
            " 28  V28     105066 non-null  float64\n",
            " 29  Amount  105066 non-null  float64\n",
            " 30  Class   105066 non-null  float64\n",
            "dtypes: float64(30), int64(1)\n",
            "memory usage: 24.8 MB\n"
          ],
          "name": "stdout"
        }
      ]
    },
    {
      "cell_type": "code",
      "metadata": {
        "colab": {
          "base_uri": "https://localhost:8080/"
        },
        "id": "DO5A043pRBtw",
        "outputId": "bcde90ad-2a07-4706-c56d-7a8f17c66236"
      },
      "source": [
        "#Check the number of missing values in each column\n",
        "df.isnull().sum()"
      ],
      "execution_count": 8,
      "outputs": [
        {
          "output_type": "execute_result",
          "data": {
            "text/plain": [
              "Time      0\n",
              "V1        0\n",
              "V2        0\n",
              "V3        0\n",
              "V4        0\n",
              "V5        0\n",
              "V6        0\n",
              "V7        0\n",
              "V8        0\n",
              "V9        0\n",
              "V10       0\n",
              "V11       0\n",
              "V12       0\n",
              "V13       0\n",
              "V14       0\n",
              "V15       0\n",
              "V16       0\n",
              "V17       0\n",
              "V18       0\n",
              "V19       0\n",
              "V20       0\n",
              "V21       0\n",
              "V22       0\n",
              "V23       0\n",
              "V24       1\n",
              "V25       1\n",
              "V26       1\n",
              "V27       1\n",
              "V28       1\n",
              "Amount    1\n",
              "Class     1\n",
              "dtype: int64"
            ]
          },
          "metadata": {
            "tags": []
          },
          "execution_count": 8
        }
      ]
    },
    {
      "cell_type": "code",
      "metadata": {
        "colab": {
          "base_uri": "https://localhost:8080/"
        },
        "id": "W3b6QeShRibC",
        "outputId": "eda15afd-7775-4a8e-c90a-a72b8e4591cb"
      },
      "source": [
        "#dist of legit transaction and fraudulent transaction\n",
        "df['Class'].value_counts()"
      ],
      "execution_count": 9,
      "outputs": [
        {
          "output_type": "execute_result",
          "data": {
            "text/plain": [
              "0.0    104834\n",
              "1.0       232\n",
              "Name: Class, dtype: int64"
            ]
          },
          "metadata": {
            "tags": []
          },
          "execution_count": 9
        }
      ]
    },
    {
      "cell_type": "code",
      "metadata": {
        "id": "2bS3pmN3TdFA"
      },
      "source": [
        "#The dataset is highly unbalanced\n",
        "# 0 --> Normal Transaction\n",
        "# 1 --> Fraudulent Transaction\n",
        "#Seperating the data for analysis\n",
        "legit = df[df.Class == 0] \n",
        "fraud = df[df.Class == 1]"
      ],
      "execution_count": 10,
      "outputs": []
    },
    {
      "cell_type": "code",
      "metadata": {
        "colab": {
          "base_uri": "https://localhost:8080/"
        },
        "id": "JaS16PqyU3U-",
        "outputId": "61c12c6b-e664-460a-bb60-9f6acc35142e"
      },
      "source": [
        "print(legit.shape)\n",
        "print(fraud.shape)"
      ],
      "execution_count": 11,
      "outputs": [
        {
          "output_type": "stream",
          "text": [
            "(104834, 31)\n",
            "(232, 31)\n"
          ],
          "name": "stdout"
        }
      ]
    },
    {
      "cell_type": "code",
      "metadata": {
        "colab": {
          "base_uri": "https://localhost:8080/"
        },
        "id": "RZGJ3PJHVAzQ",
        "outputId": "c15ebb9a-65aa-445f-8525-b29cf89e74f7"
      },
      "source": [
        "#Statistical Measures of the data \n",
        "legit.Amount.describe()"
      ],
      "execution_count": 12,
      "outputs": [
        {
          "output_type": "execute_result",
          "data": {
            "text/plain": [
              "count    104834.000000\n",
              "mean         96.584297\n",
              "std         262.333583\n",
              "min           0.000000\n",
              "25%           7.190000\n",
              "50%          25.540000\n",
              "75%          87.440000\n",
              "max       19656.530000\n",
              "Name: Amount, dtype: float64"
            ]
          },
          "metadata": {
            "tags": []
          },
          "execution_count": 12
        }
      ]
    },
    {
      "cell_type": "code",
      "metadata": {
        "colab": {
          "base_uri": "https://localhost:8080/"
        },
        "id": "gnH0Wv-DVXvG",
        "outputId": "448e316c-92ea-4703-c49d-95af0edea614"
      },
      "source": [
        "fraud.Amount.describe()"
      ],
      "execution_count": 13,
      "outputs": [
        {
          "output_type": "execute_result",
          "data": {
            "text/plain": [
              "count     232.000000\n",
              "mean      115.520474\n",
              "std       253.721393\n",
              "min         0.000000\n",
              "25%         1.000000\n",
              "50%         7.595000\n",
              "75%        99.990000\n",
              "max      1809.680000\n",
              "Name: Amount, dtype: float64"
            ]
          },
          "metadata": {
            "tags": []
          },
          "execution_count": 13
        }
      ]
    },
    {
      "cell_type": "code",
      "metadata": {
        "colab": {
          "base_uri": "https://localhost:8080/",
          "height": 162
        },
        "id": "Eh-Xlit9Vx4L",
        "outputId": "ffc57c5d-c53f-447a-9bcf-bbec5cfb9d7f"
      },
      "source": [
        "#Compare the values for both Transaction \n",
        "df.groupby('Class').mean()"
      ],
      "execution_count": 14,
      "outputs": [
        {
          "output_type": "execute_result",
          "data": {
            "text/html": [
              "<div>\n",
              "<style scoped>\n",
              "    .dataframe tbody tr th:only-of-type {\n",
              "        vertical-align: middle;\n",
              "    }\n",
              "\n",
              "    .dataframe tbody tr th {\n",
              "        vertical-align: top;\n",
              "    }\n",
              "\n",
              "    .dataframe thead th {\n",
              "        text-align: right;\n",
              "    }\n",
              "</style>\n",
              "<table border=\"1\" class=\"dataframe\">\n",
              "  <thead>\n",
              "    <tr style=\"text-align: right;\">\n",
              "      <th></th>\n",
              "      <th>Time</th>\n",
              "      <th>V1</th>\n",
              "      <th>V2</th>\n",
              "      <th>V3</th>\n",
              "      <th>V4</th>\n",
              "      <th>V5</th>\n",
              "      <th>V6</th>\n",
              "      <th>V7</th>\n",
              "      <th>V8</th>\n",
              "      <th>V9</th>\n",
              "      <th>V10</th>\n",
              "      <th>V11</th>\n",
              "      <th>V12</th>\n",
              "      <th>V13</th>\n",
              "      <th>V14</th>\n",
              "      <th>V15</th>\n",
              "      <th>V16</th>\n",
              "      <th>V17</th>\n",
              "      <th>V18</th>\n",
              "      <th>V19</th>\n",
              "      <th>V20</th>\n",
              "      <th>V21</th>\n",
              "      <th>V22</th>\n",
              "      <th>V23</th>\n",
              "      <th>V24</th>\n",
              "      <th>V25</th>\n",
              "      <th>V26</th>\n",
              "      <th>V27</th>\n",
              "      <th>V28</th>\n",
              "      <th>Amount</th>\n",
              "    </tr>\n",
              "    <tr>\n",
              "      <th>Class</th>\n",
              "      <th></th>\n",
              "      <th></th>\n",
              "      <th></th>\n",
              "      <th></th>\n",
              "      <th></th>\n",
              "      <th></th>\n",
              "      <th></th>\n",
              "      <th></th>\n",
              "      <th></th>\n",
              "      <th></th>\n",
              "      <th></th>\n",
              "      <th></th>\n",
              "      <th></th>\n",
              "      <th></th>\n",
              "      <th></th>\n",
              "      <th></th>\n",
              "      <th></th>\n",
              "      <th></th>\n",
              "      <th></th>\n",
              "      <th></th>\n",
              "      <th></th>\n",
              "      <th></th>\n",
              "      <th></th>\n",
              "      <th></th>\n",
              "      <th></th>\n",
              "      <th></th>\n",
              "      <th></th>\n",
              "      <th></th>\n",
              "      <th></th>\n",
              "      <th></th>\n",
              "    </tr>\n",
              "  </thead>\n",
              "  <tbody>\n",
              "    <tr>\n",
              "      <th>0.0</th>\n",
              "      <td>43692.851508</td>\n",
              "      <td>-0.245296</td>\n",
              "      <td>-0.039251</td>\n",
              "      <td>0.702486</td>\n",
              "      <td>0.146715</td>\n",
              "      <td>-0.274535</td>\n",
              "      <td>0.102607</td>\n",
              "      <td>-0.102664</td>\n",
              "      <td>0.053767</td>\n",
              "      <td>-0.044415</td>\n",
              "      <td>-0.007368</td>\n",
              "      <td>0.229868</td>\n",
              "      <td>-0.041724</td>\n",
              "      <td>-0.004197</td>\n",
              "      <td>0.064451</td>\n",
              "      <td>0.187289</td>\n",
              "      <td>0.007600</td>\n",
              "      <td>0.077498</td>\n",
              "      <td>-0.091664</td>\n",
              "      <td>-0.019288</td>\n",
              "      <td>0.043860</td>\n",
              "      <td>-0.032987</td>\n",
              "      <td>-0.104940</td>\n",
              "      <td>-0.037011</td>\n",
              "      <td>0.010118</td>\n",
              "      <td>0.133410</td>\n",
              "      <td>0.025912</td>\n",
              "      <td>0.000488</td>\n",
              "      <td>0.001663</td>\n",
              "      <td>96.584297</td>\n",
              "    </tr>\n",
              "    <tr>\n",
              "      <th>1.0</th>\n",
              "      <td>37898.655172</td>\n",
              "      <td>-6.138432</td>\n",
              "      <td>4.280104</td>\n",
              "      <td>-7.850475</td>\n",
              "      <td>4.800030</td>\n",
              "      <td>-4.349687</td>\n",
              "      <td>-1.566011</td>\n",
              "      <td>-6.505922</td>\n",
              "      <td>1.640373</td>\n",
              "      <td>-2.788880</td>\n",
              "      <td>-6.048258</td>\n",
              "      <td>4.367917</td>\n",
              "      <td>-6.892510</td>\n",
              "      <td>-0.061411</td>\n",
              "      <td>-7.515471</td>\n",
              "      <td>0.219095</td>\n",
              "      <td>-4.809931</td>\n",
              "      <td>-8.034451</td>\n",
              "      <td>-2.920565</td>\n",
              "      <td>0.758955</td>\n",
              "      <td>0.237631</td>\n",
              "      <td>1.386881</td>\n",
              "      <td>-0.351377</td>\n",
              "      <td>-0.114210</td>\n",
              "      <td>-0.118153</td>\n",
              "      <td>0.208771</td>\n",
              "      <td>0.094034</td>\n",
              "      <td>0.536235</td>\n",
              "      <td>0.061592</td>\n",
              "      <td>115.520474</td>\n",
              "    </tr>\n",
              "  </tbody>\n",
              "</table>\n",
              "</div>"
            ],
            "text/plain": [
              "               Time        V1        V2  ...       V27       V28      Amount\n",
              "Class                                    ...                                \n",
              "0.0    43692.851508 -0.245296 -0.039251  ...  0.000488  0.001663   96.584297\n",
              "1.0    37898.655172 -6.138432  4.280104  ...  0.536235  0.061592  115.520474\n",
              "\n",
              "[2 rows x 30 columns]"
            ]
          },
          "metadata": {
            "tags": []
          },
          "execution_count": 14
        }
      ]
    },
    {
      "cell_type": "code",
      "metadata": {
        "id": "O2U-gN-LWO4s"
      },
      "source": [
        "#UNDER SAMPLING\n",
        "legit_sample = legit.sample(n=232)"
      ],
      "execution_count": 15,
      "outputs": []
    },
    {
      "cell_type": "code",
      "metadata": {
        "id": "61zZ4zPLX2Af"
      },
      "source": [
        "#Concatenating two dataframes\n",
        "new_dataset = pd.concat([legit_sample,fraud],axis=0)"
      ],
      "execution_count": 16,
      "outputs": []
    },
    {
      "cell_type": "code",
      "metadata": {
        "colab": {
          "base_uri": "https://localhost:8080/",
          "height": 223
        },
        "id": "589PvsBIYeyL",
        "outputId": "8b3b4347-ee96-43c2-8677-51f309ce1fff"
      },
      "source": [
        "new_dataset.head()"
      ],
      "execution_count": 17,
      "outputs": [
        {
          "output_type": "execute_result",
          "data": {
            "text/html": [
              "<div>\n",
              "<style scoped>\n",
              "    .dataframe tbody tr th:only-of-type {\n",
              "        vertical-align: middle;\n",
              "    }\n",
              "\n",
              "    .dataframe tbody tr th {\n",
              "        vertical-align: top;\n",
              "    }\n",
              "\n",
              "    .dataframe thead th {\n",
              "        text-align: right;\n",
              "    }\n",
              "</style>\n",
              "<table border=\"1\" class=\"dataframe\">\n",
              "  <thead>\n",
              "    <tr style=\"text-align: right;\">\n",
              "      <th></th>\n",
              "      <th>Time</th>\n",
              "      <th>V1</th>\n",
              "      <th>V2</th>\n",
              "      <th>V3</th>\n",
              "      <th>V4</th>\n",
              "      <th>V5</th>\n",
              "      <th>V6</th>\n",
              "      <th>V7</th>\n",
              "      <th>V8</th>\n",
              "      <th>V9</th>\n",
              "      <th>V10</th>\n",
              "      <th>V11</th>\n",
              "      <th>V12</th>\n",
              "      <th>V13</th>\n",
              "      <th>V14</th>\n",
              "      <th>V15</th>\n",
              "      <th>V16</th>\n",
              "      <th>V17</th>\n",
              "      <th>V18</th>\n",
              "      <th>V19</th>\n",
              "      <th>V20</th>\n",
              "      <th>V21</th>\n",
              "      <th>V22</th>\n",
              "      <th>V23</th>\n",
              "      <th>V24</th>\n",
              "      <th>V25</th>\n",
              "      <th>V26</th>\n",
              "      <th>V27</th>\n",
              "      <th>V28</th>\n",
              "      <th>Amount</th>\n",
              "      <th>Class</th>\n",
              "    </tr>\n",
              "  </thead>\n",
              "  <tbody>\n",
              "    <tr>\n",
              "      <th>56950</th>\n",
              "      <td>47688</td>\n",
              "      <td>-1.647115</td>\n",
              "      <td>1.813682</td>\n",
              "      <td>0.943443</td>\n",
              "      <td>0.635738</td>\n",
              "      <td>0.571685</td>\n",
              "      <td>0.261584</td>\n",
              "      <td>1.032421</td>\n",
              "      <td>-0.321556</td>\n",
              "      <td>-0.178203</td>\n",
              "      <td>1.642532</td>\n",
              "      <td>1.451156</td>\n",
              "      <td>0.381102</td>\n",
              "      <td>-0.235871</td>\n",
              "      <td>0.062540</td>\n",
              "      <td>0.806833</td>\n",
              "      <td>-0.683141</td>\n",
              "      <td>-0.267001</td>\n",
              "      <td>-0.347761</td>\n",
              "      <td>1.023969</td>\n",
              "      <td>0.250017</td>\n",
              "      <td>-0.323900</td>\n",
              "      <td>-0.719060</td>\n",
              "      <td>-0.136391</td>\n",
              "      <td>-0.362761</td>\n",
              "      <td>-0.299251</td>\n",
              "      <td>-0.733208</td>\n",
              "      <td>-1.078697</td>\n",
              "      <td>-0.498725</td>\n",
              "      <td>20.40</td>\n",
              "      <td>0.0</td>\n",
              "    </tr>\n",
              "    <tr>\n",
              "      <th>61923</th>\n",
              "      <td>50049</td>\n",
              "      <td>-3.023709</td>\n",
              "      <td>-3.965300</td>\n",
              "      <td>0.491565</td>\n",
              "      <td>0.079419</td>\n",
              "      <td>0.670068</td>\n",
              "      <td>-0.162343</td>\n",
              "      <td>0.568708</td>\n",
              "      <td>-0.389160</td>\n",
              "      <td>1.844444</td>\n",
              "      <td>-0.190686</td>\n",
              "      <td>1.663529</td>\n",
              "      <td>0.203236</td>\n",
              "      <td>-1.673434</td>\n",
              "      <td>-0.098327</td>\n",
              "      <td>1.693886</td>\n",
              "      <td>-1.263495</td>\n",
              "      <td>0.281741</td>\n",
              "      <td>0.045431</td>\n",
              "      <td>1.553010</td>\n",
              "      <td>-1.429144</td>\n",
              "      <td>-0.420131</td>\n",
              "      <td>1.204877</td>\n",
              "      <td>2.261185</td>\n",
              "      <td>-0.267136</td>\n",
              "      <td>-0.192521</td>\n",
              "      <td>-0.522257</td>\n",
              "      <td>0.480585</td>\n",
              "      <td>-0.790138</td>\n",
              "      <td>305.79</td>\n",
              "      <td>0.0</td>\n",
              "    </tr>\n",
              "    <tr>\n",
              "      <th>69718</th>\n",
              "      <td>53552</td>\n",
              "      <td>-0.487635</td>\n",
              "      <td>0.960723</td>\n",
              "      <td>1.664881</td>\n",
              "      <td>0.002913</td>\n",
              "      <td>-0.075016</td>\n",
              "      <td>-0.634307</td>\n",
              "      <td>0.593208</td>\n",
              "      <td>0.079390</td>\n",
              "      <td>-0.348199</td>\n",
              "      <td>-0.341326</td>\n",
              "      <td>0.032465</td>\n",
              "      <td>-0.109551</td>\n",
              "      <td>-0.522704</td>\n",
              "      <td>0.285563</td>\n",
              "      <td>1.128869</td>\n",
              "      <td>-0.167198</td>\n",
              "      <td>0.031409</td>\n",
              "      <td>-0.849030</td>\n",
              "      <td>-0.464236</td>\n",
              "      <td>0.026853</td>\n",
              "      <td>-0.183468</td>\n",
              "      <td>-0.459951</td>\n",
              "      <td>0.055612</td>\n",
              "      <td>0.367879</td>\n",
              "      <td>-0.326144</td>\n",
              "      <td>0.082292</td>\n",
              "      <td>0.278712</td>\n",
              "      <td>0.120101</td>\n",
              "      <td>2.67</td>\n",
              "      <td>0.0</td>\n",
              "    </tr>\n",
              "    <tr>\n",
              "      <th>41334</th>\n",
              "      <td>40639</td>\n",
              "      <td>0.949017</td>\n",
              "      <td>-0.426971</td>\n",
              "      <td>1.153366</td>\n",
              "      <td>1.492910</td>\n",
              "      <td>-0.998555</td>\n",
              "      <td>0.292019</td>\n",
              "      <td>-0.635963</td>\n",
              "      <td>0.304670</td>\n",
              "      <td>1.053973</td>\n",
              "      <td>-0.180779</td>\n",
              "      <td>-0.851187</td>\n",
              "      <td>-0.293782</td>\n",
              "      <td>-1.550947</td>\n",
              "      <td>-0.002188</td>\n",
              "      <td>0.574705</td>\n",
              "      <td>-0.087738</td>\n",
              "      <td>0.108208</td>\n",
              "      <td>-0.308964</td>\n",
              "      <td>-0.638916</td>\n",
              "      <td>-0.104610</td>\n",
              "      <td>-0.005144</td>\n",
              "      <td>-0.039051</td>\n",
              "      <td>-0.023915</td>\n",
              "      <td>0.044070</td>\n",
              "      <td>0.252462</td>\n",
              "      <td>-0.366997</td>\n",
              "      <td>0.061948</td>\n",
              "      <td>0.045670</td>\n",
              "      <td>89.82</td>\n",
              "      <td>0.0</td>\n",
              "    </tr>\n",
              "    <tr>\n",
              "      <th>46853</th>\n",
              "      <td>42957</td>\n",
              "      <td>-3.434908</td>\n",
              "      <td>-1.335113</td>\n",
              "      <td>0.387497</td>\n",
              "      <td>-2.087460</td>\n",
              "      <td>-1.109935</td>\n",
              "      <td>-1.294444</td>\n",
              "      <td>0.087575</td>\n",
              "      <td>0.255596</td>\n",
              "      <td>0.109332</td>\n",
              "      <td>0.624992</td>\n",
              "      <td>-1.060556</td>\n",
              "      <td>-0.006712</td>\n",
              "      <td>0.262593</td>\n",
              "      <td>-0.523604</td>\n",
              "      <td>-0.666334</td>\n",
              "      <td>-0.640493</td>\n",
              "      <td>-0.421550</td>\n",
              "      <td>0.772801</td>\n",
              "      <td>-2.161400</td>\n",
              "      <td>-0.434131</td>\n",
              "      <td>-0.636449</td>\n",
              "      <td>-0.677560</td>\n",
              "      <td>-0.284187</td>\n",
              "      <td>0.473587</td>\n",
              "      <td>-0.288518</td>\n",
              "      <td>0.921562</td>\n",
              "      <td>0.136693</td>\n",
              "      <td>-0.083210</td>\n",
              "      <td>191.15</td>\n",
              "      <td>0.0</td>\n",
              "    </tr>\n",
              "  </tbody>\n",
              "</table>\n",
              "</div>"
            ],
            "text/plain": [
              "        Time        V1        V2        V3  ...       V27       V28  Amount  Class\n",
              "56950  47688 -1.647115  1.813682  0.943443  ... -1.078697 -0.498725   20.40    0.0\n",
              "61923  50049 -3.023709 -3.965300  0.491565  ...  0.480585 -0.790138  305.79    0.0\n",
              "69718  53552 -0.487635  0.960723  1.664881  ...  0.278712  0.120101    2.67    0.0\n",
              "41334  40639  0.949017 -0.426971  1.153366  ...  0.061948  0.045670   89.82    0.0\n",
              "46853  42957 -3.434908 -1.335113  0.387497  ...  0.136693 -0.083210  191.15    0.0\n",
              "\n",
              "[5 rows x 31 columns]"
            ]
          },
          "metadata": {
            "tags": []
          },
          "execution_count": 17
        }
      ]
    },
    {
      "cell_type": "code",
      "metadata": {
        "colab": {
          "base_uri": "https://localhost:8080/"
        },
        "id": "Vuj1vFwNYmqk",
        "outputId": "c58f1dfd-c683-4085-d05a-fda7a739d990"
      },
      "source": [
        "new_dataset['Class'].value_counts()"
      ],
      "execution_count": 18,
      "outputs": [
        {
          "output_type": "execute_result",
          "data": {
            "text/plain": [
              "1.0    232\n",
              "0.0    232\n",
              "Name: Class, dtype: int64"
            ]
          },
          "metadata": {
            "tags": []
          },
          "execution_count": 18
        }
      ]
    },
    {
      "cell_type": "code",
      "metadata": {
        "colab": {
          "base_uri": "https://localhost:8080/",
          "height": 162
        },
        "id": "Ea_s9VswZADU",
        "outputId": "66df03b7-b515-45bc-d24a-e7dbdebff9b0"
      },
      "source": [
        "new_dataset.groupby('Class').mean()"
      ],
      "execution_count": 19,
      "outputs": [
        {
          "output_type": "execute_result",
          "data": {
            "text/html": [
              "<div>\n",
              "<style scoped>\n",
              "    .dataframe tbody tr th:only-of-type {\n",
              "        vertical-align: middle;\n",
              "    }\n",
              "\n",
              "    .dataframe tbody tr th {\n",
              "        vertical-align: top;\n",
              "    }\n",
              "\n",
              "    .dataframe thead th {\n",
              "        text-align: right;\n",
              "    }\n",
              "</style>\n",
              "<table border=\"1\" class=\"dataframe\">\n",
              "  <thead>\n",
              "    <tr style=\"text-align: right;\">\n",
              "      <th></th>\n",
              "      <th>Time</th>\n",
              "      <th>V1</th>\n",
              "      <th>V2</th>\n",
              "      <th>V3</th>\n",
              "      <th>V4</th>\n",
              "      <th>V5</th>\n",
              "      <th>V6</th>\n",
              "      <th>V7</th>\n",
              "      <th>V8</th>\n",
              "      <th>V9</th>\n",
              "      <th>V10</th>\n",
              "      <th>V11</th>\n",
              "      <th>V12</th>\n",
              "      <th>V13</th>\n",
              "      <th>V14</th>\n",
              "      <th>V15</th>\n",
              "      <th>V16</th>\n",
              "      <th>V17</th>\n",
              "      <th>V18</th>\n",
              "      <th>V19</th>\n",
              "      <th>V20</th>\n",
              "      <th>V21</th>\n",
              "      <th>V22</th>\n",
              "      <th>V23</th>\n",
              "      <th>V24</th>\n",
              "      <th>V25</th>\n",
              "      <th>V26</th>\n",
              "      <th>V27</th>\n",
              "      <th>V28</th>\n",
              "      <th>Amount</th>\n",
              "    </tr>\n",
              "    <tr>\n",
              "      <th>Class</th>\n",
              "      <th></th>\n",
              "      <th></th>\n",
              "      <th></th>\n",
              "      <th></th>\n",
              "      <th></th>\n",
              "      <th></th>\n",
              "      <th></th>\n",
              "      <th></th>\n",
              "      <th></th>\n",
              "      <th></th>\n",
              "      <th></th>\n",
              "      <th></th>\n",
              "      <th></th>\n",
              "      <th></th>\n",
              "      <th></th>\n",
              "      <th></th>\n",
              "      <th></th>\n",
              "      <th></th>\n",
              "      <th></th>\n",
              "      <th></th>\n",
              "      <th></th>\n",
              "      <th></th>\n",
              "      <th></th>\n",
              "      <th></th>\n",
              "      <th></th>\n",
              "      <th></th>\n",
              "      <th></th>\n",
              "      <th></th>\n",
              "      <th></th>\n",
              "      <th></th>\n",
              "    </tr>\n",
              "  </thead>\n",
              "  <tbody>\n",
              "    <tr>\n",
              "      <th>0.0</th>\n",
              "      <td>42967.314655</td>\n",
              "      <td>-0.309851</td>\n",
              "      <td>-0.150325</td>\n",
              "      <td>0.758811</td>\n",
              "      <td>0.132352</td>\n",
              "      <td>-0.319363</td>\n",
              "      <td>0.119093</td>\n",
              "      <td>0.033131</td>\n",
              "      <td>0.093866</td>\n",
              "      <td>-0.041694</td>\n",
              "      <td>0.024426</td>\n",
              "      <td>0.242766</td>\n",
              "      <td>-0.116306</td>\n",
              "      <td>-0.025945</td>\n",
              "      <td>0.079087</td>\n",
              "      <td>0.116995</td>\n",
              "      <td>-0.068797</td>\n",
              "      <td>0.121834</td>\n",
              "      <td>-0.172607</td>\n",
              "      <td>-0.030841</td>\n",
              "      <td>0.020671</td>\n",
              "      <td>-0.043275</td>\n",
              "      <td>-0.154628</td>\n",
              "      <td>0.001106</td>\n",
              "      <td>-0.033512</td>\n",
              "      <td>0.161453</td>\n",
              "      <td>0.068831</td>\n",
              "      <td>-0.004370</td>\n",
              "      <td>0.009340</td>\n",
              "      <td>101.686207</td>\n",
              "    </tr>\n",
              "    <tr>\n",
              "      <th>1.0</th>\n",
              "      <td>37898.655172</td>\n",
              "      <td>-6.138432</td>\n",
              "      <td>4.280104</td>\n",
              "      <td>-7.850475</td>\n",
              "      <td>4.800030</td>\n",
              "      <td>-4.349687</td>\n",
              "      <td>-1.566011</td>\n",
              "      <td>-6.505922</td>\n",
              "      <td>1.640373</td>\n",
              "      <td>-2.788880</td>\n",
              "      <td>-6.048258</td>\n",
              "      <td>4.367917</td>\n",
              "      <td>-6.892510</td>\n",
              "      <td>-0.061411</td>\n",
              "      <td>-7.515471</td>\n",
              "      <td>0.219095</td>\n",
              "      <td>-4.809931</td>\n",
              "      <td>-8.034451</td>\n",
              "      <td>-2.920565</td>\n",
              "      <td>0.758955</td>\n",
              "      <td>0.237631</td>\n",
              "      <td>1.386881</td>\n",
              "      <td>-0.351377</td>\n",
              "      <td>-0.114210</td>\n",
              "      <td>-0.118153</td>\n",
              "      <td>0.208771</td>\n",
              "      <td>0.094034</td>\n",
              "      <td>0.536235</td>\n",
              "      <td>0.061592</td>\n",
              "      <td>115.520474</td>\n",
              "    </tr>\n",
              "  </tbody>\n",
              "</table>\n",
              "</div>"
            ],
            "text/plain": [
              "               Time        V1        V2  ...       V27       V28      Amount\n",
              "Class                                    ...                                \n",
              "0.0    42967.314655 -0.309851 -0.150325  ... -0.004370  0.009340  101.686207\n",
              "1.0    37898.655172 -6.138432  4.280104  ...  0.536235  0.061592  115.520474\n",
              "\n",
              "[2 rows x 30 columns]"
            ]
          },
          "metadata": {
            "tags": []
          },
          "execution_count": 19
        }
      ]
    },
    {
      "cell_type": "code",
      "metadata": {
        "id": "J0WyiBMUZRxf"
      },
      "source": [
        "#Splitting the data into Features and targets\n",
        "X = new_dataset.drop(columns='Class',axis=1)\n",
        "Y = new_dataset['Class']"
      ],
      "execution_count": 20,
      "outputs": []
    },
    {
      "cell_type": "code",
      "metadata": {
        "colab": {
          "base_uri": "https://localhost:8080/"
        },
        "id": "EkgTkjOnaPqZ",
        "outputId": "02be2023-aef3-4672-fb19-654ea61ad2db"
      },
      "source": [
        "print(X)"
      ],
      "execution_count": 21,
      "outputs": [
        {
          "output_type": "stream",
          "text": [
            "         Time         V1         V2  ...       V27       V28  Amount\n",
            "56950   47688  -1.647115   1.813682  ... -1.078697 -0.498725   20.40\n",
            "61923   50049  -3.023709  -3.965300  ...  0.480585 -0.790138  305.79\n",
            "69718   53552  -0.487635   0.960723  ...  0.278712  0.120101    2.67\n",
            "41334   40639   0.949017  -0.426971  ...  0.061948  0.045670   89.82\n",
            "46853   42957  -3.434908  -1.335113  ...  0.136693 -0.083210  191.15\n",
            "...       ...        ...        ...  ...       ...       ...     ...\n",
            "102443  68207 -13.192671  12.785971  ...  1.269566  0.939407    1.00\n",
            "102444  68207 -13.192671  12.785971  ...  1.269566  0.939407    1.00\n",
            "102445  68207 -13.192671  12.785971  ...  1.269566  0.939407    1.00\n",
            "102446  68207 -13.192671  12.785971  ...  1.269566  0.939407    1.00\n",
            "102782  68357   1.232604  -0.548931  ...  0.080805  0.035427   19.59\n",
            "\n",
            "[464 rows x 30 columns]\n"
          ],
          "name": "stdout"
        }
      ]
    },
    {
      "cell_type": "code",
      "metadata": {
        "colab": {
          "base_uri": "https://localhost:8080/"
        },
        "id": "_oREROK-aUFW",
        "outputId": "1fae7578-b3c8-45df-811f-f6f69753b23f"
      },
      "source": [
        "print(Y)"
      ],
      "execution_count": 22,
      "outputs": [
        {
          "output_type": "stream",
          "text": [
            "56950     0.0\n",
            "61923     0.0\n",
            "69718     0.0\n",
            "41334     0.0\n",
            "46853     0.0\n",
            "         ... \n",
            "102443    1.0\n",
            "102444    1.0\n",
            "102445    1.0\n",
            "102446    1.0\n",
            "102782    1.0\n",
            "Name: Class, Length: 464, dtype: float64\n"
          ],
          "name": "stdout"
        }
      ]
    },
    {
      "cell_type": "code",
      "metadata": {
        "id": "X9W-RXvdaWVC"
      },
      "source": [
        "#Split the data into training data and testing data\n",
        "X_train, X_test, Y_train, Y_test = train_test_split(X,Y,test_size=0.2,stratify=Y,random_state=2)"
      ],
      "execution_count": 23,
      "outputs": []
    },
    {
      "cell_type": "code",
      "metadata": {
        "colab": {
          "base_uri": "https://localhost:8080/"
        },
        "id": "vEq6enA6bmRR",
        "outputId": "deb18e76-da90-412f-9cd6-31adfe221614"
      },
      "source": [
        "print(X.shape,X_test.shape,X_test.shape)"
      ],
      "execution_count": 24,
      "outputs": [
        {
          "output_type": "stream",
          "text": [
            "(464, 30) (93, 30) (93, 30)\n"
          ],
          "name": "stdout"
        }
      ]
    },
    {
      "cell_type": "code",
      "metadata": {
        "id": "4blJ41Ngb5q3"
      },
      "source": [
        "#Training Model\n",
        "#Logistic Regression \n",
        "model = LogisticRegression()"
      ],
      "execution_count": 25,
      "outputs": []
    },
    {
      "cell_type": "code",
      "metadata": {
        "colab": {
          "base_uri": "https://localhost:8080/"
        },
        "id": "ePpnkb-6cN80",
        "outputId": "689029ef-cb04-438d-c3aa-f4246094ac79"
      },
      "source": [
        "#Training the logistic regression model with training data\n",
        "model.fit(X_train,Y_train)"
      ],
      "execution_count": 26,
      "outputs": [
        {
          "output_type": "execute_result",
          "data": {
            "text/plain": [
              "LogisticRegression(C=1.0, class_weight=None, dual=False, fit_intercept=True,\n",
              "                   intercept_scaling=1, l1_ratio=None, max_iter=100,\n",
              "                   multi_class='auto', n_jobs=None, penalty='l2',\n",
              "                   random_state=None, solver='lbfgs', tol=0.0001, verbose=0,\n",
              "                   warm_start=False)"
            ]
          },
          "metadata": {
            "tags": []
          },
          "execution_count": 26
        }
      ]
    },
    {
      "cell_type": "code",
      "metadata": {
        "id": "T0eguOKJcnC5"
      },
      "source": [
        "#Model Evaluation \n",
        "#Accuracy score\n",
        "#Accuracy on training data \n",
        "X_train_prediction = model.predict(X_train)\n",
        "training_data_accuracy = accuracy_score(X_train_prediction,Y_train)"
      ],
      "execution_count": 30,
      "outputs": []
    },
    {
      "cell_type": "code",
      "metadata": {
        "colab": {
          "base_uri": "https://localhost:8080/"
        },
        "id": "xG8l_3q7dtHR",
        "outputId": "73f8dd85-c4eb-4904-f076-a42ab293012d"
      },
      "source": [
        "print(\"Accuracy on Training data : \",traning_data_accuracy)"
      ],
      "execution_count": 31,
      "outputs": [
        {
          "output_type": "stream",
          "text": [
            "Accuracy on Training data :  0.9354838709677419\n"
          ],
          "name": "stdout"
        }
      ]
    },
    {
      "cell_type": "code",
      "metadata": {
        "id": "wdbwkJGweDsm"
      },
      "source": [
        "#Accuracy on test data\n",
        "X_test_prediction = model.predict(X_test)\n",
        "test_data_accuracy = accuracy_score(X_test_prediction,Y_test)"
      ],
      "execution_count": 35,
      "outputs": []
    },
    {
      "cell_type": "code",
      "metadata": {
        "colab": {
          "base_uri": "https://localhost:8080/"
        },
        "id": "CYG5Uedwe85o",
        "outputId": "77eb3544-2d64-4809-de0b-dacce7b8ac4f"
      },
      "source": [
        "print(\"Accuracy on Test data : \",test_data_accuracy)"
      ],
      "execution_count": 36,
      "outputs": [
        {
          "output_type": "stream",
          "text": [
            "Accuracy on Test data :  0.9354838709677419\n"
          ],
          "name": "stdout"
        }
      ]
    },
    {
      "cell_type": "code",
      "metadata": {
        "id": "QbxJE1htfM2H"
      },
      "source": [
        ""
      ],
      "execution_count": null,
      "outputs": []
    }
  ]
}